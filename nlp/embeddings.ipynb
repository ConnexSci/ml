{
 "cells": [
  {
   "cell_type": "code",
   "execution_count": 14,
   "metadata": {},
   "outputs": [
    {
     "name": "stderr",
     "output_type": "stream",
     "text": [
      "Reusing dataset ncbi_disease (/Users/devpatelio/.cache/huggingface/datasets/ncbi_disease/ncbi_disease/1.0.0/92314c7992b0b8a5ea2ad101be33f365b684a2cc011e0ffa29c691e6d32b2d03)\n",
      "100%|██████████| 3/3 [00:00<00:00, 660.59it/s]\n"
     ]
    },
    {
     "data": {
      "text/html": [
       "<div>\n",
       "<style scoped>\n",
       "    .dataframe tbody tr th:only-of-type {\n",
       "        vertical-align: middle;\n",
       "    }\n",
       "\n",
       "    .dataframe tbody tr th {\n",
       "        vertical-align: top;\n",
       "    }\n",
       "\n",
       "    .dataframe thead th {\n",
       "        text-align: right;\n",
       "    }\n",
       "</style>\n",
       "<table border=\"1\" class=\"dataframe\">\n",
       "  <thead>\n",
       "    <tr style=\"text-align: right;\">\n",
       "      <th></th>\n",
       "      <th>id</th>\n",
       "      <th>tokens</th>\n",
       "      <th>ner_tags</th>\n",
       "    </tr>\n",
       "  </thead>\n",
       "  <tbody>\n",
       "    <tr>\n",
       "      <th>0</th>\n",
       "      <td>0</td>\n",
       "      <td>[Identification, of, APC2, ,, a, homologue, of...</td>\n",
       "      <td>[0, 0, 0, 0, 0, 0, 0, 0, 1, 2, 2, 2, 0, 0]</td>\n",
       "    </tr>\n",
       "    <tr>\n",
       "      <th>1</th>\n",
       "      <td>1</td>\n",
       "      <td>[The, adenomatous, polyposis, coli, (, APC, ),...</td>\n",
       "      <td>[0, 1, 2, 2, 2, 2, 2, 2, 0, 0, 0, 0, 0, 0, 0, ...</td>\n",
       "    </tr>\n",
       "    <tr>\n",
       "      <th>2</th>\n",
       "      <td>2</td>\n",
       "      <td>[Complex, formation, induces, the, rapid, degr...</td>\n",
       "      <td>[0, 0, 0, 0, 0, 0, 0, 0, 0]</td>\n",
       "    </tr>\n",
       "    <tr>\n",
       "      <th>3</th>\n",
       "      <td>3</td>\n",
       "      <td>[In, colon, carcinoma, cells, ,, loss, of, APC...</td>\n",
       "      <td>[0, 1, 2, 0, 0, 0, 0, 0, 0, 0, 0, 0, 0, 0, 0, ...</td>\n",
       "    </tr>\n",
       "    <tr>\n",
       "      <th>4</th>\n",
       "      <td>4</td>\n",
       "      <td>[Here, ,, we, report, the, identification, and...</td>\n",
       "      <td>[0, 0, 0, 0, 0, 0, 0, 0, 0, 0, 0, 0, 0]</td>\n",
       "    </tr>\n",
       "  </tbody>\n",
       "</table>\n",
       "</div>"
      ],
      "text/plain": [
       "  id                                             tokens  \\\n",
       "0  0  [Identification, of, APC2, ,, a, homologue, of...   \n",
       "1  1  [The, adenomatous, polyposis, coli, (, APC, ),...   \n",
       "2  2  [Complex, formation, induces, the, rapid, degr...   \n",
       "3  3  [In, colon, carcinoma, cells, ,, loss, of, APC...   \n",
       "4  4  [Here, ,, we, report, the, identification, and...   \n",
       "\n",
       "                                            ner_tags  \n",
       "0         [0, 0, 0, 0, 0, 0, 0, 0, 1, 2, 2, 2, 0, 0]  \n",
       "1  [0, 1, 2, 2, 2, 2, 2, 2, 0, 0, 0, 0, 0, 0, 0, ...  \n",
       "2                        [0, 0, 0, 0, 0, 0, 0, 0, 0]  \n",
       "3  [0, 1, 2, 0, 0, 0, 0, 0, 0, 0, 0, 0, 0, 0, 0, ...  \n",
       "4            [0, 0, 0, 0, 0, 0, 0, 0, 0, 0, 0, 0, 0]  "
      ]
     },
     "execution_count": 14,
     "metadata": {},
     "output_type": "execute_result"
    }
   ],
   "source": [
    "import torch\n",
    "import numpy as np\n",
    "import matplotlib.pyplot as plt\n",
    "import pandas as pd\n",
    "import pickle \n",
    "import os\n",
    "import sys\n",
    "\n",
    "# from torch_geometric.data import Data, DataLoader\n",
    "# from torch_geometric.nn import GCNConv, GATConv, SAGEConv, global_mean_pool\n",
    "# from torch_geometric.utils import to_networkx\n",
    "\n",
    "from sklearn.manifold import TSNE\n",
    "from sklearn.decomposition import PCA\n",
    "from sklearn.cluster import KMeans\n",
    "\n",
    "from datasets import load_dataset\n",
    "dataset = load_dataset('ncbi_disease')\n",
    "df_ncbi = pd.DataFrame(dataset['train'])\n",
    "\n",
    "df_ncbi.head()"
   ]
  },
  {
   "cell_type": "code",
   "execution_count": 39,
   "metadata": {},
   "outputs": [
    {
     "name": "stdout",
     "output_type": "stream",
     "text": [
      "Requirement already satisfied: nlu in /Users/devpatelio/miniconda3/envs/machine_learning/lib/python3.8/site-packages (4.0.0)\n",
      "Collecting pyspark\n",
      "  Downloading pyspark-3.3.0.tar.gz (281.3 MB)\n",
      "\u001b[K     |██████████                      | 87.8 MB 163 kB/s eta 0:19:43     |████████▋                       | 76.1 MB 976 kB/s eta 0:03:31\u001b[31mERROR: Exception:\n",
      "Traceback (most recent call last):\n",
      "  File \"/Users/devpatelio/miniconda3/envs/machine_learning/lib/python3.8/site-packages/pip/_vendor/urllib3/response.py\", line 438, in _error_catcher\n",
      "    yield\n",
      "  File \"/Users/devpatelio/miniconda3/envs/machine_learning/lib/python3.8/site-packages/pip/_vendor/urllib3/response.py\", line 519, in read\n",
      "    data = self._fp.read(amt) if not fp_closed else b\"\"\n",
      "  File \"/Users/devpatelio/miniconda3/envs/machine_learning/lib/python3.8/site-packages/pip/_vendor/cachecontrol/filewrapper.py\", line 62, in read\n",
      "    data = self.__fp.read(amt)\n",
      "  File \"/Users/devpatelio/miniconda3/envs/machine_learning/lib/python3.8/http/client.py\", line 459, in read\n",
      "    n = self.readinto(b)\n",
      "  File \"/Users/devpatelio/miniconda3/envs/machine_learning/lib/python3.8/http/client.py\", line 503, in readinto\n",
      "    n = self.fp.readinto(b)\n",
      "  File \"/Users/devpatelio/miniconda3/envs/machine_learning/lib/python3.8/socket.py\", line 669, in readinto\n",
      "    return self._sock.recv_into(b)\n",
      "  File \"/Users/devpatelio/miniconda3/envs/machine_learning/lib/python3.8/ssl.py\", line 1241, in recv_into\n",
      "    return self.read(nbytes, buffer)\n",
      "  File \"/Users/devpatelio/miniconda3/envs/machine_learning/lib/python3.8/ssl.py\", line 1099, in read\n",
      "    return self._sslobj.read(len, buffer)\n",
      "socket.timeout: The read operation timed out\n",
      "\n",
      "During handling of the above exception, another exception occurred:\n",
      "\n",
      "Traceback (most recent call last):\n",
      "  File \"/Users/devpatelio/miniconda3/envs/machine_learning/lib/python3.8/site-packages/pip/_internal/cli/base_command.py\", line 173, in _main\n",
      "    status = self.run(options, args)\n",
      "  File \"/Users/devpatelio/miniconda3/envs/machine_learning/lib/python3.8/site-packages/pip/_internal/cli/req_command.py\", line 203, in wrapper\n",
      "    return func(self, options, args)\n",
      "  File \"/Users/devpatelio/miniconda3/envs/machine_learning/lib/python3.8/site-packages/pip/_internal/commands/install.py\", line 315, in run\n",
      "    requirement_set = resolver.resolve(\n",
      "  File \"/Users/devpatelio/miniconda3/envs/machine_learning/lib/python3.8/site-packages/pip/_internal/resolution/resolvelib/resolver.py\", line 94, in resolve\n",
      "    result = self._result = resolver.resolve(\n",
      "  File \"/Users/devpatelio/miniconda3/envs/machine_learning/lib/python3.8/site-packages/pip/_vendor/resolvelib/resolvers.py\", line 472, in resolve\n",
      "    state = resolution.resolve(requirements, max_rounds=max_rounds)\n",
      "  File \"/Users/devpatelio/miniconda3/envs/machine_learning/lib/python3.8/site-packages/pip/_vendor/resolvelib/resolvers.py\", line 341, in resolve\n",
      "    self._add_to_criteria(self.state.criteria, r, parent=None)\n",
      "  File \"/Users/devpatelio/miniconda3/envs/machine_learning/lib/python3.8/site-packages/pip/_vendor/resolvelib/resolvers.py\", line 172, in _add_to_criteria\n",
      "    if not criterion.candidates:\n",
      "  File \"/Users/devpatelio/miniconda3/envs/machine_learning/lib/python3.8/site-packages/pip/_vendor/resolvelib/structs.py\", line 151, in __bool__\n",
      "    return bool(self._sequence)\n",
      "  File \"/Users/devpatelio/miniconda3/envs/machine_learning/lib/python3.8/site-packages/pip/_internal/resolution/resolvelib/found_candidates.py\", line 140, in __bool__\n",
      "    return any(self)\n",
      "  File \"/Users/devpatelio/miniconda3/envs/machine_learning/lib/python3.8/site-packages/pip/_internal/resolution/resolvelib/found_candidates.py\", line 128, in <genexpr>\n",
      "    return (c for c in iterator if id(c) not in self._incompatible_ids)\n",
      "  File \"/Users/devpatelio/miniconda3/envs/machine_learning/lib/python3.8/site-packages/pip/_internal/resolution/resolvelib/found_candidates.py\", line 32, in _iter_built\n",
      "    candidate = func()\n",
      "  File \"/Users/devpatelio/miniconda3/envs/machine_learning/lib/python3.8/site-packages/pip/_internal/resolution/resolvelib/factory.py\", line 204, in _make_candidate_from_link\n",
      "    self._link_candidate_cache[link] = LinkCandidate(\n",
      "  File \"/Users/devpatelio/miniconda3/envs/machine_learning/lib/python3.8/site-packages/pip/_internal/resolution/resolvelib/candidates.py\", line 295, in __init__\n",
      "    super().__init__(\n",
      "  File \"/Users/devpatelio/miniconda3/envs/machine_learning/lib/python3.8/site-packages/pip/_internal/resolution/resolvelib/candidates.py\", line 156, in __init__\n",
      "    self.dist = self._prepare()\n",
      "  File \"/Users/devpatelio/miniconda3/envs/machine_learning/lib/python3.8/site-packages/pip/_internal/resolution/resolvelib/candidates.py\", line 227, in _prepare\n",
      "    dist = self._prepare_distribution()\n",
      "  File \"/Users/devpatelio/miniconda3/envs/machine_learning/lib/python3.8/site-packages/pip/_internal/resolution/resolvelib/candidates.py\", line 305, in _prepare_distribution\n",
      "    return self._factory.preparer.prepare_linked_requirement(\n",
      "  File \"/Users/devpatelio/miniconda3/envs/machine_learning/lib/python3.8/site-packages/pip/_internal/operations/prepare.py\", line 508, in prepare_linked_requirement\n",
      "    return self._prepare_linked_requirement(req, parallel_builds)\n",
      "  File \"/Users/devpatelio/miniconda3/envs/machine_learning/lib/python3.8/site-packages/pip/_internal/operations/prepare.py\", line 550, in _prepare_linked_requirement\n",
      "    local_file = unpack_url(\n",
      "  File \"/Users/devpatelio/miniconda3/envs/machine_learning/lib/python3.8/site-packages/pip/_internal/operations/prepare.py\", line 239, in unpack_url\n",
      "    file = get_http_url(\n",
      "  File \"/Users/devpatelio/miniconda3/envs/machine_learning/lib/python3.8/site-packages/pip/_internal/operations/prepare.py\", line 102, in get_http_url\n",
      "    from_path, content_type = download(link, temp_dir.path)\n",
      "  File \"/Users/devpatelio/miniconda3/envs/machine_learning/lib/python3.8/site-packages/pip/_internal/network/download.py\", line 145, in __call__\n",
      "    for chunk in chunks:\n",
      "  File \"/Users/devpatelio/miniconda3/envs/machine_learning/lib/python3.8/site-packages/pip/_internal/cli/progress_bars.py\", line 144, in iter\n",
      "    for x in it:\n",
      "  File \"/Users/devpatelio/miniconda3/envs/machine_learning/lib/python3.8/site-packages/pip/_internal/network/utils.py\", line 63, in response_chunks\n",
      "    for chunk in response.raw.stream(\n",
      "  File \"/Users/devpatelio/miniconda3/envs/machine_learning/lib/python3.8/site-packages/pip/_vendor/urllib3/response.py\", line 576, in stream\n",
      "    data = self.read(amt=amt, decode_content=decode_content)\n",
      "  File \"/Users/devpatelio/miniconda3/envs/machine_learning/lib/python3.8/site-packages/pip/_vendor/urllib3/response.py\", line 541, in read\n",
      "    raise IncompleteRead(self._fp_bytes_read, self.length_remaining)\n",
      "  File \"/Users/devpatelio/miniconda3/envs/machine_learning/lib/python3.8/contextlib.py\", line 131, in __exit__\n",
      "    self.gen.throw(type, value, traceback)\n",
      "  File \"/Users/devpatelio/miniconda3/envs/machine_learning/lib/python3.8/site-packages/pip/_vendor/urllib3/response.py\", line 443, in _error_catcher\n",
      "    raise ReadTimeoutError(self._pool, None, \"Read timed out.\")\n",
      "pip._vendor.urllib3.exceptions.ReadTimeoutError: HTTPSConnectionPool(host='files.pythonhosted.org', port=443): Read timed out.\u001b[0m\n"
     ]
    }
   ],
   "source": [
    "!pip install nlu pyspark"
   ]
  },
  {
   "cell_type": "code",
   "execution_count": 38,
   "metadata": {},
   "outputs": [
    {
     "name": "stdout",
     "output_type": "stream",
     "text": [
      "You need Pyspark installed to run NLU. Run <pip install pyspark==3.0.2>\n"
     ]
    },
    {
     "ename": "ImportError",
     "evalue": "You ned to install Pyspark to run nlu. Run pip install pyspark==3.0.1",
     "output_type": "error",
     "traceback": [
      "\u001b[0;31m---------------------------------------------------------------------------\u001b[0m",
      "\u001b[0;31mImportError\u001b[0m                               Traceback (most recent call last)",
      "\u001b[0;32m/var/folders/q6/c9ls7y117c383dxbpmvcj56h0000gn/T/ipykernel_59481/317907197.py\u001b[0m in \u001b[0;36m<module>\u001b[0;34m\u001b[0m\n\u001b[0;32m----> 1\u001b[0;31m \u001b[0;32mimport\u001b[0m \u001b[0mnlu\u001b[0m\u001b[0;34m\u001b[0m\u001b[0;34m\u001b[0m\u001b[0m\n\u001b[0m\u001b[1;32m      2\u001b[0m \u001b[0mpipe\u001b[0m \u001b[0;34m=\u001b[0m \u001b[0mnlu\u001b[0m\u001b[0;34m.\u001b[0m\u001b[0mload\u001b[0m\u001b[0;34m(\u001b[0m\u001b[0;34m'biobert'\u001b[0m\u001b[0;34m)\u001b[0m\u001b[0;34m\u001b[0m\u001b[0;34m\u001b[0m\u001b[0m\n",
      "\u001b[0;32m~/miniconda3/envs/machine_learning/lib/python3.8/site-packages/nlu/__init__.py\u001b[0m in \u001b[0;36m<module>\u001b[0;34m\u001b[0m\n\u001b[1;32m      4\u001b[0m \u001b[0;34m\u001b[0m\u001b[0m\n\u001b[1;32m      5\u001b[0m \u001b[0;32mif\u001b[0m \u001b[0;32mnot\u001b[0m \u001b[0menv_utils\u001b[0m\u001b[0;34m.\u001b[0m\u001b[0mtry_import_pyspark_in_streamlit\u001b[0m\u001b[0;34m(\u001b[0m\u001b[0;34m)\u001b[0m\u001b[0;34m:\u001b[0m\u001b[0;34m\u001b[0m\u001b[0;34m\u001b[0m\u001b[0m\n\u001b[0;32m----> 6\u001b[0;31m     \u001b[0;32mraise\u001b[0m \u001b[0mImportError\u001b[0m\u001b[0;34m(\u001b[0m\u001b[0;34m\"You ned to install Pyspark to run nlu. Run pip install pyspark==3.0.1\"\u001b[0m\u001b[0;34m)\u001b[0m\u001b[0;34m\u001b[0m\u001b[0;34m\u001b[0m\u001b[0m\n\u001b[0m\u001b[1;32m      7\u001b[0m \u001b[0;32mif\u001b[0m \u001b[0;32mnot\u001b[0m \u001b[0menv_utils\u001b[0m\u001b[0;34m.\u001b[0m\u001b[0mtry_import_spark_nlp\u001b[0m\u001b[0;34m(\u001b[0m\u001b[0;34m)\u001b[0m\u001b[0;34m:\u001b[0m\u001b[0;34m\u001b[0m\u001b[0;34m\u001b[0m\u001b[0m\n\u001b[1;32m      8\u001b[0m     \u001b[0;32mraise\u001b[0m \u001b[0mImportError\u001b[0m\u001b[0;34m(\u001b[0m\u001b[0;34m\"You need Spark NLP to run NLU. run pip install spark-nlp\"\u001b[0m\u001b[0;34m)\u001b[0m\u001b[0;34m\u001b[0m\u001b[0;34m\u001b[0m\u001b[0m\n",
      "\u001b[0;31mImportError\u001b[0m: You ned to install Pyspark to run nlu. Run pip install pyspark==3.0.1"
     ]
    }
   ],
   "source": [
    "import nlu\n",
    "pipe = nlu.load('biobert')"
   ]
  },
  {
   "cell_type": "code",
   "execution_count": 37,
   "metadata": {},
   "outputs": [
    {
     "name": "stderr",
     "output_type": "stream",
     "text": [
      "The cache for model files in Transformers v4.22.0 has been updated. Migrating your old cache. This is a one-time only operation. You can interrupt this and resume the migration later on by calling `transformers.utils.move_cache()`.\n"
     ]
    },
    {
     "name": "stdout",
     "output_type": "stream",
     "text": [
      "Moving 5 files to the new cache system\n"
     ]
    },
    {
     "name": "stderr",
     "output_type": "stream",
     "text": [
      "100%|██████████| 5/5 [00:03<00:00,  1.34it/s]\n"
     ]
    }
   ],
   "source": [
    "from torch.utils.data import Dataset\n",
    "import transformers\n",
    "\n",
    "\n",
    "class PaperTextDataset(Dataset):\n",
    "    def __init__ (self, transform=None):\n",
    "        self.data = []\n",
    "        self.transform = transform\n",
    "        self.embeddings = []\n",
    "    \n",
    "    def add_dataset(self, header, db):\n",
    "        add_data = db[header].tolist()\n",
    "        self.data += add_data\n",
    "    \n",
    "    def __len__(self):\n",
    "        return len(self.data)\n",
    "\n",
    "    def __getitem__(self, idx):\n",
    "        sample = self.data[idx]\n",
    "        if self.transform:\n",
    "            sample = self.transform(sample)\n",
    "        return sample\n",
    "\n",
    "    def embed(self, bert):\n",
    "        data_concat = []\n",
    "        for i in self.data:\n",
    "        \n",
    "            self.embeddings = None\n",
    "\n",
    "\n",
    "data = PaperTextDataset()\n",
    "data.add_dataset(header='tokens', db=df_ncbi)\n",
    "data_concat.append(' '.join(i))"
   ]
  },
  {
   "cell_type": "code",
   "execution_count": null,
   "metadata": {},
   "outputs": [],
   "source": []
  }
 ],
 "metadata": {
  "kernelspec": {
   "display_name": "Python 3.8.12 ('machine_learning')",
   "language": "python",
   "name": "python3"
  },
  "language_info": {
   "codemirror_mode": {
    "name": "ipython",
    "version": 3
   },
   "file_extension": ".py",
   "mimetype": "text/x-python",
   "name": "python",
   "nbconvert_exporter": "python",
   "pygments_lexer": "ipython3",
   "version": "3.8.12"
  },
  "orig_nbformat": 4,
  "vscode": {
   "interpreter": {
    "hash": "577ea14e5a220a2e2ceb4e7a6eabde6a6424f50ee02cc5f86f913307280e145a"
   }
  }
 },
 "nbformat": 4,
 "nbformat_minor": 2
}
